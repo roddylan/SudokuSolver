{
 "cells": [
  {
   "cell_type": "code",
   "execution_count": 1,
   "metadata": {},
   "outputs": [],
   "source": [
    "%load_ext autoreload\n",
    "%autoreload 2\n",
    "import algos, utils\n",
    "\n",
    "sudoku = utils.Grid()\n",
    "puzzle = \".........9......84.623...5....6...453...1...6...9...7....1.....4.5..2....3.8....9\"\n",
    "\n",
    "# gen = utils.SudokuGenerator()\n",
    "# puzzle = gen.generate()"
   ]
  },
  {
   "cell_type": "code",
   "execution_count": 2,
   "metadata": {},
   "outputs": [
    {
     "name": "stdout",
     "output_type": "stream",
     "text": [
      "- - - - - - - - - - - - - \n",
      "| . . . | . . . | . . . | \n",
      "| 9 . . | . . . | . 8 4 | \n",
      "| . 6 2 | 3 . . | . 5 . | \n",
      "- - - - - - - - - - - - - \n",
      "| . . . | 6 . . | . 4 5 | \n",
      "| 3 . . | . 1 . | . . 6 | \n",
      "| . . . | 9 . . | . 7 . | \n",
      "- - - - - - - - - - - - - \n",
      "| . . . | 1 . . | . . . | \n",
      "| 4 . 5 | . . 2 | . . . | \n",
      "| . 3 . | 8 . . | . . 9 | \n",
      "- - - - - - - - - - - - - \n",
      "\n"
     ]
    }
   ],
   "source": [
    "sudoku.read(puzzle)\n",
    "sudoku.print()"
   ]
  },
  {
   "cell_type": "code",
   "execution_count": 3,
   "metadata": {},
   "outputs": [
    {
     "name": "stdout",
     "output_type": "stream",
     "text": [
      "- - - - - - - - - - - - - \n",
      "| 1 7 4 | 5 8 9 | 3 6 2 | \n",
      "| 9 5 3 | 2 6 1 | 7 8 4 | \n",
      "| 8 6 2 | 3 4 7 | 9 5 1 | \n",
      "- - - - - - - - - - - - - \n",
      "| 2 1 9 | 6 7 3 | 8 4 5 | \n",
      "| 3 8 7 | 4 1 5 | 2 9 6 | \n",
      "| 5 4 6 | 9 2 8 | 1 7 3 | \n",
      "- - - - - - - - - - - - - \n",
      "| 6 2 8 | 1 9 4 | 5 3 7 | \n",
      "| 4 9 5 | 7 3 2 | 6 1 8 | \n",
      "| 7 3 1 | 8 5 6 | 4 2 9 | \n",
      "- - - - - - - - - - - - - \n",
      "\n"
     ]
    }
   ],
   "source": [
    "backtrack = algos.Backtracking().search(sudoku, algos.MRV())\n",
    "backtrack.print()"
   ]
  }
 ],
 "metadata": {
  "kernelspec": {
   "display_name": "base",
   "language": "python",
   "name": "python3"
  },
  "language_info": {
   "codemirror_mode": {
    "name": "ipython",
    "version": 3
   },
   "file_extension": ".py",
   "mimetype": "text/x-python",
   "name": "python",
   "nbconvert_exporter": "python",
   "pygments_lexer": "ipython3",
   "version": "3.10.0"
  }
 },
 "nbformat": 4,
 "nbformat_minor": 2
}
